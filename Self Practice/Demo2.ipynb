{
 "cells": [
  {
   "cell_type": "code",
   "execution_count": 6,
   "metadata": {},
   "outputs": [
    {
     "name": "stdout",
     "output_type": "stream",
     "text": [
      "This Demo is from JUPITER extension...\n"
     ]
    }
   ],
   "source": [
    "print(\"This Demo is from JUPITER extension...\")\n"
   ]
  },
  {
   "cell_type": "code",
   "execution_count": 9,
   "metadata": {},
   "outputs": [
    {
     "name": "stdout",
     "output_type": "stream",
     "text": [
      "Addition :  20\n",
      "Subtraction :  0\n",
      "Multiplication :  100\n",
      "Division :  1.0\n",
      "Modulus :  0\n"
     ]
    }
   ],
   "source": [
    "x = 10\n",
    "y = 10\n",
    "print(\"Addition : \",x + y)  # Addition\n",
    "print(\"Subtraction : \",x - y)  # Subtraction\n",
    "print(\"Multiplication : \",x * y)  # Multiplication\n",
    "print(\"Division : \",x / y)  # Division\n",
    "print(\"Modulus : \",x % y)  # Modulus\n",
    "\n"
   ]
  },
  {
   "cell_type": "markdown",
   "metadata": {},
   "source": [
    "Program to compare values:"
   ]
  },
  {
   "cell_type": "code",
   "execution_count": 10,
   "metadata": {},
   "outputs": [
    {
     "name": "stdout",
     "output_type": "stream",
     "text": [
      "True\n",
      "False\n",
      "False\n",
      "True\n"
     ]
    }
   ],
   "source": [
    "x = 5\n",
    "y = 3\n",
    "print(x > y)  # Greater than\n",
    "print(x < y)  # Less than\n",
    "print(x == y) # Equal to\n",
    "print(x != y) # Not equal to\n"
   ]
  },
  {
   "cell_type": "markdown",
   "metadata": {},
   "source": [
    "Basic if else condition:"
   ]
  },
  {
   "cell_type": "code",
   "execution_count": 12,
   "metadata": {},
   "outputs": [
    {
     "name": "stdout",
     "output_type": "stream",
     "text": [
      "x is greater than 5\n",
      "x is equal to 10\n"
     ]
    }
   ],
   "source": [
    "x = 10\n",
    "if x > 5:\n",
    "    print(\"x is greater than 5\")\n",
    "else:\n",
    "    print(\"x is less than or equal to 5\")\n",
    "\n",
    "x = 10\n",
    "if x > 10:\n",
    "    print(\"x is greater than 10\")\n",
    "elif x == 10:\n",
    "    print(\"x is equal to 10\")\n",
    "else:\n",
    "    print(\"x is less than 10\")\n"
   ]
  },
  {
   "cell_type": "markdown",
   "metadata": {},
   "source": [
    "For loop:"
   ]
  },
  {
   "cell_type": "code",
   "execution_count": 13,
   "metadata": {},
   "outputs": [
    {
     "name": "stdout",
     "output_type": "stream",
     "text": [
      "0\n",
      "1\n",
      "2\n",
      "3\n",
      "4\n"
     ]
    }
   ],
   "source": [
    "for i in range(5):\n",
    "    print(i)\n"
   ]
  },
  {
   "cell_type": "markdown",
   "metadata": {},
   "source": [
    "While loop:"
   ]
  },
  {
   "cell_type": "code",
   "execution_count": 19,
   "metadata": {},
   "outputs": [
    {
     "name": "stdout",
     "output_type": "stream",
     "text": [
      "1\n",
      "2\n",
      "3\n",
      "4\n"
     ]
    }
   ],
   "source": [
    "i = 1\n",
    "while i < 5:\n",
    "    print(i)\n",
    "    i += 1\n"
   ]
  },
  {
   "cell_type": "markdown",
   "metadata": {},
   "source": [
    "Functions:"
   ]
  },
  {
   "cell_type": "code",
   "execution_count": 21,
   "metadata": {},
   "outputs": [
    {
     "name": "stdout",
     "output_type": "stream",
     "text": [
      "Hello, Munna!\n",
      "Hello, Purushotham!\n"
     ]
    }
   ],
   "source": [
    "def greet(name):\n",
    "    return f\"Hello, {name}!\"\n",
    "\n",
    "print(greet(\"Munna\"))\n",
    "print(greet(\"Purushotham\"))\n"
   ]
  },
  {
   "cell_type": "code",
   "execution_count": 22,
   "metadata": {},
   "outputs": [
    {
     "name": "stdout",
     "output_type": "stream",
     "text": [
      "Hello, World!\n",
      "Hello, Alice!\n"
     ]
    }
   ],
   "source": [
    "def greet(name=\"World\"):\n",
    "    return f\"Hello, {name}!\"\n",
    "\n",
    "print(greet())\n",
    "print(greet(\"Alice\"))\n"
   ]
  },
  {
   "cell_type": "code",
   "execution_count": 23,
   "metadata": {},
   "outputs": [
    {
     "name": "stdout",
     "output_type": "stream",
     "text": [
      "4.0\n"
     ]
    }
   ],
   "source": [
    "import math\n",
    "\n",
    "print(math.sqrt(16))\n"
   ]
  },
  {
   "cell_type": "code",
   "execution_count": 24,
   "metadata": {},
   "outputs": [
    {
     "name": "stdout",
     "output_type": "stream",
     "text": [
      "8\n",
      "2\n"
     ]
    }
   ],
   "source": [
    "import mymodule\n",
    "\n",
    "print(mymodule.add(5, 3))\n",
    "print(mymodule.subtract(5, 3))\n"
   ]
  },
  {
   "cell_type": "code",
   "execution_count": 1,
   "metadata": {},
   "outputs": [
    {
     "name": "stdout",
     "output_type": "stream",
     "text": [
      "4\n",
      "4\n",
      "11\n",
      "12\n",
      "15\n",
      "-1\n"
     ]
    }
   ],
   "source": [
    "string = 'Python is good one'\n",
    "print(string.find('o'))\n",
    "print(string.find('o',4))\n",
    "print(string.find('o',5))\n",
    "print(string.find('o',12,16))\n",
    "print(string.find('o',13,16))\n",
    "print(string.find('O',13,16))"
   ]
  },
  {
   "cell_type": "code",
   "execution_count": 2,
   "metadata": {},
   "outputs": [
    {
     "name": "stdout",
     "output_type": "stream",
     "text": [
      "19\n",
      "15\n",
      "17\n"
     ]
    }
   ],
   "source": [
    "string = 'Python programming is fun'\n",
    "print(string.index('is fun'))\n",
    "print(string.index('ing',10))\n",
    "print(string.index('g is',10,-4))\n"
   ]
  },
  {
   "cell_type": "code",
   "execution_count": null,
   "metadata": {},
   "outputs": [
    {
     "name": "stdout",
     "output_type": "stream",
     "text": [
      "['Hadoop', 'Spark']\n",
      "['Hadoop', 'Spark']\n",
      "['Bigdata', 'Spark', 'DS', 'AgenticAI']\n"
     ]
    }
   ],
   "source": [
    "list=['Bigdata','Hadoop','Spark','IoT','DS','DE','AgenticAI','GenAI']\n",
    "print(list[1:3])\n",
    "print(list[1:3:1])\n",
    "print(list[0:8:2])  "
   ]
  },
  {
   "cell_type": "code",
   "execution_count": 2,
   "metadata": {},
   "outputs": [
    {
     "name": "stdout",
     "output_type": "stream",
     "text": [
      "12345_12345_12345_12345_12345_\n",
      "1_5432\n",
      "54321_\n",
      "_12345\n",
      "_54321_54321_54321_54321_54321\n"
     ]
    }
   ],
   "source": [
    "s = '12345_' * 5\n",
    "print(s)\n",
    "\n",
    "print(s[::5])\n",
    "\n",
    "print(s[4::5])\n",
    "\n",
    "print(s[::-5])\n",
    "\n",
    "print(s[::-1])\n"
   ]
  },
  {
   "cell_type": "code",
   "execution_count": 8,
   "metadata": {},
   "outputs": [
    {
     "name": "stdout",
     "output_type": "stream",
     "text": [
      "<generator object fib at 0x000001C44FAE01E0>\n",
      "0 1 1 2 3 5 8 13 21 34 55 89 "
     ]
    }
   ],
   "source": [
    "def fib():\n",
    "    a,b=0,1\n",
    "    while True:\n",
    "        yield a\n",
    "        a,b = b,a+b\n",
    "result = fib()\n",
    "print(result)\n",
    "print(next(result),end=\" \")\n",
    "print(next(result),end=\" \")\n",
    "for _ in range(10):\n",
    "    print(next(result),end=\" \")\n"
   ]
  },
  {
   "cell_type": "code",
   "execution_count": 11,
   "metadata": {},
   "outputs": [
    {
     "name": "stdout",
     "output_type": "stream",
     "text": [
      "0 1 1 2 3 5 8 13 21 34 55 89\n"
     ]
    }
   ],
   "source": [
    "from itertools import islice\n",
    "def fib():\n",
    "    a, b = 0, 1\n",
    "    while True:\n",
    "        yield a\n",
    "        a, b = b, a + b\n",
    "\n",
    "# Print first 12 Fibonacci numbers (0 to 89)\n",
    "fib_gen = fib()\n",
    "first_12 = list(islice(fib_gen, 12))\n",
    "print(*first_12)  # Output: 0 1 1 2 3 5 8 13 21 34 55 89"
   ]
  },
  {
   "cell_type": "code",
   "execution_count": 12,
   "metadata": {},
   "outputs": [
    {
     "name": "stdout",
     "output_type": "stream",
     "text": [
      "10 20 30 40\n",
      "10, 20, 30, 40\n",
      "10203040\n",
      "10\n",
      "20\n",
      "30\n",
      "40\n",
      "10 → 20 → 30 → 40\n",
      "10, 20, 30, 40!P-y-t-h-o-n\n",
      "3.5 | 7.2 | 9.8\n",
      "0, 1, 4, 9, 16\n",
      "10🔥20🔥30🔥40\n"
     ]
    }
   ],
   "source": [
    "numbers = [10, 20, 30, 40]\n",
    "print(*numbers)  # Output: 10 20 30 40\n",
    "print(*numbers, sep=\", \")  # Output: 10, 20, 30, 40\n",
    "print(*numbers, sep=\"\")  # Output: 10203040\n",
    "print(*numbers, sep=\"\\n\")\n",
    "print(*numbers, sep=\" → \")  # Output: 10 → 20 → 30 → 40\n",
    "print(*numbers, sep=\", \", end=\"!\")  # Output: 10, 20, 30, 40!\n",
    "word = [\"P\", \"y\", \"t\", \"h\", \"o\", \"n\"]\n",
    "print(*word, sep=\"-\")  # Output: P-y-t-h-o-n\n",
    "coordinates = (3.5, 7.2, 9.8)\n",
    "print(*coordinates, sep=\" | \")  # Output: 3.5 | 7.2 | 9.8\n",
    "squares = (x**2 for x in range(5))\n",
    "print(*squares, sep=\", \")  # Output: 0, 1, 4, 9, 16\n",
    "print(*numbers, sep=\"🔥\")  # Output: 10🔥20🔥30🔥40"
   ]
  },
  {
   "cell_type": "code",
   "execution_count": 21,
   "metadata": {},
   "outputs": [
    {
     "name": "stdout",
     "output_type": "stream",
     "text": [
      "[0, 1, 1, 2, 3, 5, 8, 13, 21, 34, 55, 89]\n"
     ]
    }
   ],
   "source": [
    "def fib_list(n):\n",
    "    fibs = [0, 1]\n",
    "    for _ in range(2, n):\n",
    "        fibs.append(fibs[-1] + fibs[-2])\n",
    "    return fibs[:n]  # Ensure correct length if n=0 or n=1\n",
    "\n",
    "print(fib_list(12))  # Output: [0, 1, 1, 2, 3, 5, 8, 13, 21, 34, 55, 89]\n",
    "#print(*fib_list(12))"
   ]
  }
 ],
 "metadata": {
  "kernelspec": {
   "display_name": "Python 3",
   "language": "python",
   "name": "python3"
  },
  "language_info": {
   "codemirror_mode": {
    "name": "ipython",
    "version": 3
   },
   "file_extension": ".py",
   "mimetype": "text/x-python",
   "name": "python",
   "nbconvert_exporter": "python",
   "pygments_lexer": "ipython3",
   "version": "3.12.10"
  }
 },
 "nbformat": 4,
 "nbformat_minor": 2
}
