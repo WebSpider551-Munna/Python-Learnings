{
 "cells": [
  {
   "cell_type": "code",
   "execution_count": 9,
   "metadata": {},
   "outputs": [
    {
     "name": "stdout",
     "output_type": "stream",
     "text": [
      "['apple', 'banana', 'cherry']\n"
     ]
    }
   ],
   "source": [
    "# Creating an empty list\n",
    "fruits = []\n",
    "\n",
    "# Appending elements to the list\n",
    "fruits.append(\"apple\")\n",
    "fruits.append(\"banana\")\n",
    "fruits.append(\"cherry\")\n",
    "\n",
    "print(fruits)  # Output: ['apple', 'banana', 'cherry']\n"
   ]
  },
  {
   "cell_type": "code",
   "execution_count": 20,
   "metadata": {},
   "outputs": [
    {
     "name": "stdout",
     "output_type": "stream",
     "text": [
      "['banana', 'cherry', 'apple']\n"
     ]
    }
   ],
   "source": [
    "# Creating a list with duplicates\n",
    "fruits = [\"apple\", \"banana\", \"cherry\", \"apple\"]\n",
    "\n",
    "# Removing the first occurrence of \"apple\"\n",
    "fruits.remove(\"apple\")\n",
    "#fruits.remove(\"apple\")\n",
    "\n",
    "print(fruits)  # Output: ['banana', 'cherry', 'apple']\n"
   ]
  },
  {
   "cell_type": "code",
   "execution_count": 11,
   "metadata": {},
   "outputs": [
    {
     "name": "stdout",
     "output_type": "stream",
     "text": [
      "Total Fruits :  ['apple', 'banana', 'cherry']\n",
      "Last Fruit :  cherry\n",
      "Fruits after POP():  ['apple', 'banana']\n",
      "First Fruit :  apple\n",
      "Fruits after POP(0):  ['banana']\n"
     ]
    }
   ],
   "source": [
    "# Creating a list\n",
    "fruits = [\"apple\", \"banana\", \"cherry\"]\n",
    "\n",
    "# Popping the last element\n",
    "print(\"Total Fruits : \",fruits) \n",
    "last_fruit = fruits.pop()\n",
    "print(\"Last Fruit : \",last_fruit)  # Output: 'cherry'\n",
    "print(\"Fruits after POP(): \",fruits)      # Output: ['apple', 'banana']\n",
    "\n",
    "# Popping an element at index 0\n",
    "first_fruit = fruits.pop(0)\n",
    "print(\"First Fruit : \",first_fruit)  # Output: 'apple'\n",
    "print(\"Fruits after POP(0): \",fruits)       # Output: ['banana']\n"
   ]
  },
  {
   "cell_type": "code",
   "execution_count": 21,
   "metadata": {},
   "outputs": [
    {
     "name": "stdout",
     "output_type": "stream",
     "text": [
      "dict_keys(['name', 'age', 'major'])\n"
     ]
    },
    {
     "ename": "",
     "evalue": "",
     "output_type": "error",
     "traceback": [
      "\u001b[1;31mThe Kernel crashed while executing code in the current cell or a previous cell. \n",
      "\u001b[1;31mPlease review the code in the cell(s) to identify a possible cause of the failure. \n",
      "\u001b[1;31mClick <a href='https://aka.ms/vscodeJupyterKernelCrash'>here</a> for more info. \n",
      "\u001b[1;31mView Jupyter <a href='command:jupyter.viewOutput'>log</a> for further details."
     ]
    }
   ],
   "source": [
    "# Creating a dictionary\n",
    "student = {\"name\": \"John\", \"age\": 21, \"major\": \"Computer Science\"}\n",
    "\n",
    "# Getting all keys\n",
    "keys = student.keys()\n",
    "\n",
    "print(keys)  # Output: dict_keys(['name', 'age', 'major'])\n"
   ]
  },
  {
   "cell_type": "code",
   "execution_count": 13,
   "metadata": {},
   "outputs": [
    {
     "name": "stdout",
     "output_type": "stream",
     "text": [
      "name: John\n",
      "age: 21\n",
      "major: Computer Science\n"
     ]
    }
   ],
   "source": [
    "for key, value in student.items():\n",
    "    print(f\"{key}: {value}\")\n"
   ]
  },
  {
   "cell_type": "code",
   "execution_count": 14,
   "metadata": {},
   "outputs": [
    {
     "name": "stdout",
     "output_type": "stream",
     "text": [
      "1D Array: [1 2 3 4 5]\n",
      "2D Array:\n",
      " [[1 2 3]\n",
      " [4 5 6]]\n"
     ]
    }
   ],
   "source": [
    "import numpy as np\n",
    "\n",
    "# Creating a 1D array\n",
    "array_1d = np.array([1, 2, 3, 4, 5])\n",
    "\n",
    "# Creating a 2D array\n",
    "array_2d = np.array([[1, 2, 3], [4, 5, 6]])\n",
    "\n",
    "print(\"1D Array:\", array_1d)\n",
    "print(\"2D Array:\\n\", array_2d)\n"
   ]
  },
  {
   "cell_type": "code",
   "execution_count": 15,
   "metadata": {},
   "outputs": [
    {
     "name": "stdout",
     "output_type": "stream",
     "text": [
      "Broadcasted Addition:\n",
      " [[2 3 4]\n",
      " [3 4 5]\n",
      " [4 5 6]]\n"
     ]
    }
   ],
   "source": [
    "import numpy as np\n",
    "\n",
    "# Creating a 1D array\n",
    "a = np.array([1, 2, 3])\n",
    "\n",
    "# Broadcasting to a 2D array\n",
    "b = np.array([[1], [2], [3]])\n",
    "\n",
    "# Adding arrays with broadcasting\n",
    "result = a + b\n",
    "\n",
    "print(\"Broadcasted Addition:\\n\", result)\n"
   ]
  },
  {
   "cell_type": "code",
   "execution_count": 16,
   "metadata": {},
   "outputs": [
    {
     "name": "stdout",
     "output_type": "stream",
     "text": [
      "[[1 2 3]\n",
      " [4 5 6]\n",
      " [7 8 9]]\n",
      "Element at (1, 1): 5\n",
      "Element at (2, 2): 9\n",
      "Element at (0, 1): 2\n",
      "Element at (0, 0): 1\n"
     ]
    }
   ],
   "source": [
    "import numpy as np\n",
    "\n",
    "# Creating a 2D array\n",
    "array_2d = np.array([[1, 2, 3], [4, 5, 6], [7, 8, 9]])\n",
    "\n",
    "print(array_2d)\n",
    "\n",
    "# Accessing an element at row 1, column 2\n",
    "print(\"Element at (1, 1):\", array_2d[1, 1])  \n",
    "print(\"Element at (2, 2):\", array_2d[2, 2]) \n",
    "print(\"Element at (0, 1):\", array_2d[0, 1]) \n",
    "print(\"Element at (0, 0):\", array_2d[0, 0]) \n",
    "\n"
   ]
  }
 ],
 "metadata": {
  "kernelspec": {
   "display_name": "Python 3",
   "language": "python",
   "name": "python3"
  },
  "language_info": {
   "codemirror_mode": {
    "name": "ipython",
    "version": 3
   },
   "file_extension": ".py",
   "mimetype": "text/x-python",
   "name": "python",
   "nbconvert_exporter": "python",
   "pygments_lexer": "ipython3",
   "version": "3.12.9"
  }
 },
 "nbformat": 4,
 "nbformat_minor": 2
}
