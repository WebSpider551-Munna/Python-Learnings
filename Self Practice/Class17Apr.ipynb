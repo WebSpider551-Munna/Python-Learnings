{
 "cells": [
  {
   "cell_type": "code",
   "execution_count": 1,
   "id": "696d719d",
   "metadata": {},
   "outputs": [
    {
     "name": "stdout",
     "output_type": "stream",
     "text": [
      "नमस्ते आप कैसे हैं?\n",
      "न\n",
      "त\n",
      "ह\n",
      "ं\n"
     ]
    }
   ],
   "source": [
    "PyUString=u\"नमस्ते आप कैसे हैं?\"\n",
    "print(PyUString)\n",
    "print(PyUString[0])\n",
    "print(PyUString[4])\n",
    "print(PyUString[-4])\n",
    "print(PyUString[-2])"
   ]
  },
  {
   "cell_type": "code",
   "execution_count": 5,
   "id": "0e344d6d",
   "metadata": {},
   "outputs": [
    {
     "name": "stdout",
     "output_type": "stream",
     "text": [
      " The Sum: 6 6\n",
      " The Sum: 5 11\n",
      " The Sum: 3 14\n",
      " The Sum: 8 22\n",
      " The Sum: 4 26\n",
      " The Sum: 2 28\n",
      " The Sum: 5 33\n",
      " The Sum: 4 37\n",
      " The Sum: 11 48\n",
      "The sum is 48\n"
     ]
    }
   ],
   "source": [
    "numbers = [6, 5, 3, 8, 4, 2, 5, 4, 11]\n",
    "Sum = 0\n",
    "for val in numbers:\n",
    "     Sum = Sum+val\n",
    "     print(f\" The Sum: {val}\", Sum)\n",
    "print(\"The sum is\", Sum)"
   ]
  },
  {
   "cell_type": "code",
   "execution_count": null,
   "id": "e150f7fd",
   "metadata": {},
   "outputs": [],
   "source": [
    "# Generate Fibonacci series in a simple way\n",
    "n = 10  # Number of terms\n",
    "a, b = 0, 1\n",
    "fib_series = []\n",
    "for _ in range(n):\n",
    "    fib_series.append(a)\n",
    "    a, b = b, a + b\n",
    "print(\"Fibonacci series:\", fib_series)"
   ]
  },
  {
   "cell_type": "code",
   "execution_count": 6,
   "id": "feab8364",
   "metadata": {},
   "outputs": [
    {
     "name": "stdout",
     "output_type": "stream",
     "text": [
      "BIGDATA\n",
      "PYTHON\n",
      "DEEP LEARNING\n"
     ]
    }
   ],
   "source": [
    "dataset = ['BigData', 'python', 'Deep Learning']\n",
    "for data in dataset:\n",
    "    print(data.upper())\n"
   ]
  },
  {
   "cell_type": "code",
   "execution_count": 7,
   "id": "de592be9",
   "metadata": {},
   "outputs": [
    {
     "name": "stdout",
     "output_type": "stream",
     "text": [
      "12\n",
      "45\n",
      "67\n",
      "23\n",
      "15\n"
     ]
    }
   ],
   "source": [
    "data = [12,45,67,23,15]\n",
    "for item in data:\n",
    "    print(item) "
   ]
  },
  {
   "cell_type": "code",
   "execution_count": 8,
   "id": "effed75f",
   "metadata": {},
   "outputs": [
    {
     "name": "stdout",
     "output_type": "stream",
     "text": [
      "12\n",
      "45\n",
      "67\n",
      "23\n",
      "15\n"
     ]
    }
   ],
   "source": [
    "data = (12,45,67,23,15)\n",
    "for item in data:\n",
    "    print(item) "
   ]
  },
  {
   "cell_type": "code",
   "execution_count": 9,
   "id": "2b3b5983",
   "metadata": {},
   "outputs": [
    {
     "name": "stdout",
     "output_type": "stream",
     "text": [
      "67\n",
      "23\n",
      "12\n",
      "45\n",
      "15\n"
     ]
    }
   ],
   "source": [
    "data = {12,45,67,23,15}\n",
    "for item in data:\n",
    "    print(item)"
   ]
  },
  {
   "cell_type": "code",
   "execution_count": 10,
   "id": "b1f72d87",
   "metadata": {},
   "outputs": [
    {
     "name": "stdout",
     "output_type": "stream",
     "text": [
      "1\n",
      "2\n",
      "3\n",
      "4\n",
      "5\n"
     ]
    }
   ],
   "source": [
    "data = {1:\"PY\",2:\"DS\",3:\"ML\",4:\"DL\",5:\"AI\"}\n",
    "for item in data:\n",
    "    print(item) "
   ]
  },
  {
   "cell_type": "code",
   "execution_count": 11,
   "id": "5977b30c",
   "metadata": {},
   "outputs": [
    {
     "name": "stdout",
     "output_type": "stream",
     "text": [
      "I like pop\n",
      "I like rock\n",
      "I like jazz\n",
      "I like hindustani\n"
     ]
    }
   ],
   "source": [
    "genre = ['pop', 'rock', 'jazz','hindustani']\n",
    "# iterate over the list using index\n",
    "for i in range(len(genre)):\n",
    "    print(\"I like\", genre[i])"
   ]
  }
 ],
 "metadata": {
  "kernelspec": {
   "display_name": "Python 3",
   "language": "python",
   "name": "python3"
  },
  "language_info": {
   "codemirror_mode": {
    "name": "ipython",
    "version": 3
   },
   "file_extension": ".py",
   "mimetype": "text/x-python",
   "name": "python",
   "nbconvert_exporter": "python",
   "pygments_lexer": "ipython3",
   "version": "3.12.10"
  }
 },
 "nbformat": 4,
 "nbformat_minor": 5
}
